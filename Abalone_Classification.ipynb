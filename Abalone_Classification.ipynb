{
  "nbformat": 4,
  "nbformat_minor": 0,
  "metadata": {
    "colab": {
      "name": "Abalone-Classification.ipynb",
      "version": "0.3.2",
      "provenance": [],
      "collapsed_sections": [],
      "include_colab_link": true
    },
    "kernelspec": {
      "name": "python2",
      "display_name": "Python 2"
    },
    "accelerator": "GPU"
  },
  "cells": [
    {
      "cell_type": "markdown",
      "metadata": {
        "id": "view-in-github",
        "colab_type": "text"
      },
      "source": [
        "[View in Colaboratory](https://colab.research.google.com/github/Gregory-Eales/Abolone-Classification/blob/master/Abalone_Classification.ipynb)"
      ]
    },
    {
      "metadata": {
        "id": "jBq1mZDABXuA",
        "colab_type": "code",
        "colab": {}
      },
      "cell_type": "code",
      "source": [
        "import numpy as np\n",
        "from matplotlib import pyplot as plt"
      ],
      "execution_count": 0,
      "outputs": []
    },
    {
      "metadata": {
        "id": "FxYxJDuYCEx2",
        "colab_type": "code",
        "colab": {
          "base_uri": "https://localhost:8080/",
          "height": 71
        },
        "outputId": "67acbaf3-14c2-4e89-d88c-78021d1a6cfd"
      },
      "cell_type": "code",
      "source": [
        "# importing data and cleaning\n",
        "from numpy import loadtxt\n",
        "import urllib3\n",
        "http = urllib3.PoolManager()\n",
        "url = 'https://archive.ics.uci.edu/ml/machine-learning-databases/abalone/abalone.data'\n",
        "raw_data = http.request('GET', url)\n",
        "raw_data = raw_data.data.split(\"\\n\")\n",
        "data = []\n",
        "dataY = []\n",
        "for i in range(len(raw_data)-1):\n",
        "  data.append(raw_data[i].split(\",\")[1:])\n",
        "  \n",
        "  if raw_data[i].split(\",\")[0] == 'I':\n",
        "    dataY.append([1, 0, 0])\n",
        "    \n",
        "  if raw_data[i].split(\",\")[0] == 'F':\n",
        "    dataY.append([0, 0, 1])\n",
        "    \n",
        "  if raw_data[i].split(\",\")[0] == 'M':\n",
        "    dataY.append([0, 1, 0])\n",
        "\n",
        "\n",
        "data = np.array(data)\n",
        "Y = np.array(dataY)\n",
        "data[data == 'M'] = '1'\n",
        "data[data == 'F'] = '1'\n",
        "data[data == 'I'] = '1'\n",
        "X = data.astype(float)\n",
        "\n"
      ],
      "execution_count": 194,
      "outputs": [
        {
          "output_type": "stream",
          "text": [
            "/usr/local/lib/python2.7/dist-packages/urllib3/connectionpool.py:858: InsecureRequestWarning: Unverified HTTPS request is being made. Adding certificate verification is strongly advised. See: https://urllib3.readthedocs.io/en/latest/advanced-usage.html#ssl-warnings\n",
            "  InsecureRequestWarning)\n"
          ],
          "name": "stderr"
        }
      ]
    },
    {
      "metadata": {
        "id": "siLN7lX7BdeI",
        "colab_type": "code",
        "colab": {}
      },
      "cell_type": "code",
      "source": [
        "class NeuralNetwork(object):\n",
        "  \n",
        "  def __init__(self):\n",
        "    self.w1 = np.random.random([8,10])\n",
        "    self.w2 = np.random.random([10,3])\n",
        "    self.historical_cost = []\n",
        "  \n",
        "  def forward(self, x):\n",
        "    self.z1 = np.dot(x, self.w1)\n",
        "    self.a1 = np.tanh(self.z1)\n",
        "    self.z2 = np.dot(self.a1, self.w2)\n",
        "    self.a2 = self.sigmoid(self.z2)\n",
        "    return self.a2\n",
        "    \n",
        "    \n",
        "  def train(self, x, y, alpha, iterations):\n",
        "    self.alpha = alpha\n",
        "    self.y = y\n",
        "    self.x = x\n",
        "    for iteration in range(iterations):\n",
        "      self.forward(x)\n",
        "      self.historical_cost.append(-self.cost_function())\n",
        "      if iteration%1000 == 0:\n",
        "        self.alpha = self.alpha*0.9\n",
        "        print(-self.cost_function())\n",
        "      self.back_prop()\n",
        "      \n",
        "      \n",
        "  def back_prop(self):\n",
        "    self.w1 = self.w1 - self.alpha * np.dot( self.x.T, np.dot(self.w2, ((self.y/self.a2 - (1-self.y)/(1-self.a2))*self.sigmoid_prime(self.z2)).T).T*self.tanh_prime(self.z1))/self.x.shape[0]\n",
        "    self.w2 = self.w2 - self.alpha * np.dot(self.a1.T, (self.y/self.a2 - (1-self.y)/(1-self.a2)) * self.sigmoid_prime(self.z2))/self.x.shape[0]\n",
        "    \n",
        "  \n",
        "  def cost_function(self):\n",
        "    self.cost = np.sum(self.y*np.log(self.a2) + (1-self.y)*np.log(1-self.a2))/len(self.x)\n",
        "    return self.cost\n",
        "  \n",
        "  def sigmoid(self, Z):\n",
        "    return 1/(1+np.exp(-Z))\n",
        "  \n",
        "  def sigmoid_prime(self, Z):\n",
        "    return -np.exp(-Z)/np.square(1+np.exp(-Z))\n",
        "  \n",
        "  def tanh_prime(self, Z):\n",
        "    return 1 - np.square(np.tanh(Z))\n",
        "  "
      ],
      "execution_count": 0,
      "outputs": []
    },
    {
      "metadata": {
        "id": "BQkngiY7RdtT",
        "colab_type": "code",
        "colab": {
          "base_uri": "https://localhost:8080/",
          "height": 398
        },
        "outputId": "6ddd1143-55ed-415f-bdc2-91d4e70e6402"
      },
      "cell_type": "code",
      "source": [
        "NN = NeuralNetwork()\n",
        "NN.forward(X)\n",
        "NN.train(X, Y, 0.01, 1000)\n",
        "plt.plot(NN.historical_cost)\n",
        "plt.show()\n",
        "predictions = NN.forward(X)\n",
        "answers = Y\n",
        "\n",
        "p = np.zeros_like(predictions)\n",
        "p[np.arange(len(predictions)), predictions.argmax(1)] = 1\n",
        "\n",
        "\n",
        "\n",
        "correct = 0\n",
        "for i in range(len(p)):\n",
        "  if p[i].all() == answers[i].all():\n",
        "    correct += 1\n",
        "\n",
        "print(correct)\n",
        "    \n",
        "print(\"The model is \" + str((correct/len(p))*100) + \"% accurate\")    \n",
        "                         \n",
        "      \n"
      ],
      "execution_count": 196,
      "outputs": [
        {
          "output_type": "stream",
          "text": [
            "11.27642987576161\n"
          ],
          "name": "stdout"
        },
        {
          "output_type": "display_data",
          "data": {
            "image/png": "[encoded data removed]",
            "text/plain": [
              "<matplotlib.figure.Figure at 0x7f0329d64d50>"
            ]
          },
          "metadata": {
            "tags": []
          }
        },
        {
          "output_type": "stream",
          "text": [
            "4177\n",
            "The model is 100% accurate\n"
          ],
          "name": "stdout"
        }
      ]
    }
  ]
}